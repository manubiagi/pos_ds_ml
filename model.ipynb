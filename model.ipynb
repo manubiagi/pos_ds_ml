{
  "cells": [
    {
      "cell_type": "markdown",
      "metadata": {
        "id": "Ztx9X_UvjEFf"
      },
      "source": [
        "Projeto de classificação de empresas com base em suas características financeiras usando Árvores de Decisão e Florestas Aleatórias, iremos selecionar variáveis financeiras relevantes que possam refletir o desempenho das empresas. Aqui estão as variáveis sugeridas e o objetivo do modelo:\n",
        "\n",
        "## Variáveis Selecionadas\n",
        "**Capitalização de Mercado:** Representa o valor de mercado total das ações da empresa. É um indicador importante do tamanho e da estabilidade da empresa.\n",
        "\n",
        "**Volume de Negociações:** Refere-se ao número total de ações negociadas em um período. Um volume alto pode indicar interesse elevado dos investidores.\n",
        "\n",
        "**Preço das Ações:** O valor atual das ações da empresa no mercado. Mudanças nos preços das ações podem refletir a percepção do mercado sobre o desempenho da empresa.\n",
        "\n",
        "**Dividendos Pagos:** Indica a parcela do lucro que é distribuída aos acionistas. Empresas com dividendos consistentes podem ser vistas como mais estáveis.\n",
        "\n",
        "**Lucro Líquido:** O lucro total da empresa após a dedução de todas as despesas. É um indicador direto da rentabilidade da empresa.\n",
        "\n",
        "## Objetivo do Modelo\n",
        "**Classificar Empresas:** O objetivo é classificar as empresas em categorias de desempenho, como \"Alto Desempenho\", \"Desempenho Moderado\" e \"Baixo Desempenho\", com base nas variáveis financeiras selecionadas. Isso pode ajudar investidores a identificar empresas potencialmente lucrativas ou arriscadas.\n",
        "\n",
        "**Entender Fatores Influenciadores:** O modelo também pode ajudar a identificar quais variáveis têm maior influência no desempenho das empresas, fornecendo insights valiosos para estratégias de investimento.\n",
        "\n",
        "# Implementação do Modelo\n",
        "Coleta de Dados: Reúna dados históricos das empresas listadas na bolsa de valores referentes às variáveis selecionadas.\n",
        "\n",
        "Pré-processamento de Dados: Limpeza dos dados, tratamento de valores ausentes, e normalização ou padronização, se necessário.\n",
        "\n",
        "Definição de Categorias de Desempenho: Defina critérios claros para categorizar as empresas (por exemplo, baseando-se no retorno do investimento, crescimento do preço das ações, etc.).\n",
        "\n",
        "Construção do Modelo: Utilize Árvores de Decisão e Florestas Aleatórias para construir o modelo de classificação.\n",
        "\n",
        "Avaliação do Modelo: Utilize métricas como precisão, recall e F1-score para avaliar o desempenho do modelo. A validação cruzada pode ser usada para garantir a generalização do modelo.\n",
        "\n",
        "Análise de Importância de Variáveis: Use o modelo para identificar quais variáveis têm maior impacto na classificação do desempenho das empresas.\n",
        "\n",
        "Interpretação e Conclusões: Interprete os resultados do modelo e faça recomendações com base nas descobertas."
      ]
    },
    {
      "cell_type": "markdown",
      "metadata": {
        "id": "S2agjJ5YoaE-"
      },
      "source": [
        "### Instala e importa bibliotecas"
      ]
    },
    {
      "cell_type": "code",
      "execution_count": 1,
      "metadata": {
        "colab": {
          "background_save": true,
          "base_uri": "https://localhost:8080/"
        },
        "id": "Mvv5x3g8j5c0",
        "outputId": "b2277839-1d86-40c4-e4fa-d8ccd0c4e860"
      },
      "outputs": [],
      "source": [
        "import yfinance as yf\n",
        "import concurrent.futures\n",
        "from tqdm import tqdm\n",
        "\n",
        "import pandas as pd\n",
        "import numpy as np\n",
        "import matplotlib.pyplot as plt\n",
        "import seaborn as sns\n",
        "\n",
        "from sklearn.model_selection import train_test_split\n",
        "from sklearn.preprocessing import StandardScaler\n",
        "from sklearn.tree import DecisionTreeClassifier\n",
        "from sklearn.ensemble import RandomForestClassifier\n",
        "from sklearn.metrics import classification_report\n",
        "from sklearn.model_selection import cross_val_score\n",
        "from sklearn.model_selection import GridSearchCV"
      ]
    },
    {
      "cell_type": "markdown",
      "metadata": {
        "id": "I437DPtinuVJ"
      },
      "source": [
        "### Classes, funções e definições"
      ]
    },
    {
      "cell_type": "code",
      "execution_count": 2,
      "metadata": {
        "colab": {
          "background_save": true
        },
        "id": "iy25LiCmnxcT"
      },
      "outputs": [],
      "source": [
        "class HistoricalDataFetcher:\n",
        "    def __init__(self, tickers, max_threads=4):\n",
        "        self.tickers = tickers\n",
        "        self.max_threads = max_threads\n",
        "\n",
        "    def get_historical_data(self, ticker):\n",
        "        stock = yf.Ticker(ticker)\n",
        "        data = stock.history(period=\"10y\")  # Obter dados dos últimos 5 anos\n",
        "        data['Ticker'] = ticker  # Adicionar uma coluna para identificar o ticker\n",
        "        return data\n",
        "\n",
        "    def fetch_data(self):\n",
        "        all_data = []\n",
        "\n",
        "        with concurrent.futures.ThreadPoolExecutor(self.max_threads) as executor:\n",
        "            # Mapear a função para obter os dados históricos em todos os tickers\n",
        "            results = list(tqdm(executor.map(self.get_historical_data, self.tickers), total=len(self.tickers)))\n",
        "\n",
        "        # Combina todos os DataFrames em um único DataFrame\n",
        "        for data in results:\n",
        "            all_data.append(data)\n",
        "\n",
        "        return pd.concat(all_data)"
      ]
    },
    {
      "cell_type": "markdown",
      "metadata": {
        "id": "5ZTDqiaaj22s"
      },
      "source": [
        "### Importa dados da B3"
      ]
    },
    {
      "cell_type": "code",
      "execution_count": 3,
      "metadata": {
        "colab": {
          "background_save": true
        },
        "id": "eVA0CZN4llE_"
      },
      "outputs": [],
      "source": [
        "tickers_b3 = [\n",
        "    \"HAPV3.SA\",\"BBDC4.SA\",\"ITSA4.SA\",\"PETR4.SA\",\"B3SA3.SA\",\"RAIZ4.SA\",\"ABEV3.SA\",\"LREN3.SA\",\n",
        "    \"CMIG4.SA\",\"IFCM3.SA\",\"CPLE6.SA\",\"ITUB4.SA\",\"GOAU4.SA\",\"PETZ3.SA\",\"COGN3.SA\",\"PRIO3.SA\",\n",
        "    \"AZUL4.SA\",\"RAIL3.SA\",\"VALE3.SA\",\"CIEL3.SA\",\"MRFG3.SA\",\"LWSA3.SA\",\"USIM5.SA\",\"BBAS3.SA\",\n",
        "    \"GGBR4.SA\",\"CRFB3.SA\",\"JBSS3.SA\",\"SOMA3.SA\",\"CVCB3.SA\",\"ASAI3.SA\",\"MRVE3.SA\",\"VBBR3.SA\",\n",
        "    \"AMER3.SA\",\"PDGR3.SA\",\"CSNA3.SA\",\"PETR3.SA\",\"RRRP3.SA\",\"WEGE3.SA\",\"BEEF3.SA\",\"CMIG3.SA\",\n",
        "    \"NTCO3.SA\",\"ENEV3.SA\",\"SLCE3.SA\",\"TIMS3.SA\",\"GOLL4.SA\",\"ELET3.SA\",\"EQTL3.SA\",\"BBDC3.SA\",\n",
        "    \"HBSA3.SA\",\"EMBR3.SA\",\"CSAN3.SA\",\"AERI3.SA\",\"SUZB3.SA\",\"OIBR3.SA\",\"BBSE3.SA\",\"VAMO3.SA\",\n",
        "    \"RADL3.SA\",\"BRFS3.SA\",\"RENT3.SA\",\"UGPA3.SA\",\"PCAR3.SA\",\"BRKM5.SA\",\"CMIN3.SA\",\"BMGB4.SA\",\n",
        "    \"FLRY3.SA\",\"CCRO3.SA\",\"RDOR3.SA\",\"QUAL3.SA\",\"ANIM3.SA\",\"GMAT3.SA\",\"HYPE3.SA\",\"SEQL3.SA\",\n",
        "    \"CYRE3.SA\",\"RECV3.SA\",\"POMO4.SA\",\"CPLE3.SA\",\"ECOR3.SA\",\"CPFE3.SA\",\"TOTS3.SA\",\"LJQQ3.SA\",\n",
        "    \"BRAP4.SA\",\"DXCO3.SA\",\"SAPR4.SA\",\"VIVT3.SA\",\"BPAN4.SA\",\"SMTO3.SA\",\"AURE3.SA\",\"CBAV3.SA\",\n",
        "    \"VIVA3.SA\",\"CEAB3.SA\",\"SBSP3.SA\",\"YDUQ3.SA\",\"TTEN3.SA\",\"RAPT4.SA\",\"ONCO3.SA\",\"VVEO3.SA\",\n",
        "    \"CXSE3.SA\",\"ALPA4.SA\",\"RCSL4.SA\",\"MULT3.SA\",\"JHSF3.SA\",\"TRPL4.SA\",\"MBLY3.SA\",\"IRBR3.SA\",\n",
        "    \"STBP3.SA\",\"ENAT3.SA\",\"CURY3.SA\",\"SIMH3.SA\",\"AESB3.SA\",\"EGIE3.SA\",\"ARZZ3.SA\",\"MOVI3.SA\",\n",
        "    \"KLBN4.SA\",\"CASH3.SA\",\"AZEV4.SA\",\"PSSA3.SA\",\"ELET6.SA\",\"DIRR3.SA\",\"TRAD3.SA\",\"SBFG3.SA\",\n",
        "    \"CSMG3.SA\",\"GUAR3.SA\",\"AMBP3.SA\",\"SMFT3.SA\",\"MLAS3.SA\",\"TEND3.SA\",\"INTB3.SA\",\"RCSL3.SA\",\n",
        "    \"GGPS3.SA\",\"BRSR6.SA\",\"EZTC3.SA\",\"MDIA3.SA\",\"KEPL3.SA\",\"ODPV3.SA\",\"MTRE3.SA\",\"SEER3.SA\",\n",
        "    \"NEOE3.SA\",\"KRSA3.SA\",\"GFSA3.SA\",\"POSI3.SA\",\"MYPK3.SA\",\"ITUB3.SA\",\"TRIS3.SA\",\"GRND3.SA\",\n",
        "    \"PGMN3.SA\",\"PLPL3.SA\",\"EVEN3.SA\",\"MEAL3.SA\",\"ESPA3.SA\",\"CAML3.SA\",\"PTBL3.SA\",\"TGMA3.SA\",\n",
        "    \"RANI3.SA\",\"AZEV3.SA\",\"LIGT3.SA\",\"WIZC3.SA\",\"KLBN3.SA\",\"LAVV3.SA\",\"ZAMP3.SA\",\"SGPS3.SA\",\n",
        "    \"USIM3.SA\",\"FRAS3.SA\",\"LEVE3.SA\",\"AGRO3.SA\",\"ORVR3.SA\",\"ABCB4.SA\",\"NGRD3.SA\",\"TUPY3.SA\",\n",
        "    \"HBOR3.SA\",\"CLSA3.SA\",\"VLID3.SA\",\"AMAR3.SA\",\"JALL3.SA\",\"MDNE3.SA\",\"ENJU3.SA\",\"MGLU3.SA\",\n",
        "    \"MATD3.SA\",\"VIVR3.SA\",\"HBRE3.SA\",\"SAPR3.SA\",\"MILS3.SA\",\"ETER3.SA\",\"CSED3.SA\",\"SHUL4.SA\",\n",
        "    \"ARML3.SA\",\"VULC3.SA\",\"TASA4.SA\",\"BMOB3.SA\",\"FIQE3.SA\",\"CTNM4.SA\",\"OPCT3.SA\",\"PINE4.SA\",\n",
        "    \"NINJ3.SA\",\"BLAU3.SA\",\"PFRM3.SA\",\"DASA3.SA\",\"UNIP6.SA\",\"SYNE3.SA\",\"ALLD3.SA\",\"LOGG3.SA\",\n",
        "    \"PORT3.SA\",\"ITSA3.SA\",\"ROMI3.SA\",\"PNVL3.SA\",\"TAEE4.SA\",\"LUPA3.SA\",\"BRIT3.SA\",\"MELK3.SA\",\n",
        "    \"VITT3.SA\",\"IGTI3.SA\",\"IGTI3.SA\",\"ALPK3.SA\",\"SHOW3.SA\",\"FESA4.SA\",\"JSLG3.SA\",\"TECN3.SA\",\n",
        "    \"RNEW4.SA\",\"TCSA3.SA\",\"CTSA4.SA\",\"LPSB3.SA\",\"SOJA3.SA\",\"RNEW3.SA\",\"ELMD3.SA\",\"DESK3.SA\",\n",
        "    \"POMO3.SA\",\"AALR3.SA\",\"CTSA3.SA\",\"EUCA4.SA\",\"DEXP3.SA\",\"DOTZ3.SA\",\"JFEN3.SA\",\n",
        "    \"TAEE3.SA\",\"INEP4.SA\",\"CAMB3.SA\",\"PRNR3.SA\",\"WEST3.SA\",\"BRAP3.SA\",\"LAND3.SA\",\"GOAU3.SA\",\n",
        "    \"PDTC3.SA\",\"LOGN3.SA\",\"COCE5.SA\",\"TFCO4.SA\",\"VSTE3.SA\",\"SANB3.SA\",\"RSID3.SA\",\"DMVF3.SA\",\n",
        "    \"SANB4.SA\",\"GGBR3.SA\",\"ALUP4.SA\",\"INEP3.SA\",\"CSUD3.SA\",\"SCAR3.SA\",\"AGXY3.SA\",\"APER3.SA\",\n",
        "    \"BRKM3.SA\",\"EALT4.SA\",\"IGTI4.SA\",\"IGTI4.SA\",\"TPIS3.SA\",\"WHRL3.SA\",\"ATMP3.SA\",\"BOBR4.SA\",\n",
        "    \"ALUP3.SA\",\"CGRA4.SA\",\"SNSY5.SA\",\"ATOM3.SA\",\"RDNI3.SA\",\"CEBR6.SA\",\"BMEB4.SA\",\"PMAM3.SA\",\n",
        "    \"TASA3.SA\",\"EPAR3.SA\",\"BEES3.SA\",\"ENGI3.SA\",\"TEKA4.SA\",\"RAPT3.SA\",\"LVTC3.SA\",\"UCAS3.SA\",\n",
        "    \"CEBR5.SA\",\"WHRL4.SA\",\"UNIP3.SA\",\"PTNT3.SA\",\"MTSA4.SA\",\"BAHI3.SA\",\"BPAC5.SA\",\"BIOM3.SA\",\n",
        "    \"OIBR4.SA\",\"HAGA4.SA\",\"CGRA3.SA\",\"ENGI4.SA\",\"CEBR3.SA\",\"PTNT4.SA\",\"NUTR3.SA\",\"OSXB3.SA\",\n",
        "    \"BPAC3.SA\",\"DEXP4.SA\",\"REDE3.SA\",\"NEXP3.SA\",\"TRPL3.SA\",\"OFSA3.SA\",\"CGAS5.SA\",\"ENMT3.SA\",\n",
        "    \"FHER3.SA\",\"CLSC4.SA\",\"BEES4.SA\",\"EQPA3.SA\",\"MWET4.SA\",\"BRSR3.SA\",\"AVLL3.SA\",\"RPAD6.SA\",\n",
        "    \"EMAE4.SA\",\"CEED4.SA\",\"TELB4.SA\",\"RPMG3.SA\",\"CRPG5.SA\",\"BAZA3.SA\",\"CRPG6.SA\",\"DOHL4.SA\",\n",
        "    \"EUCA3.SA\",\"BMEB3.SA\",\"HAGA3.SA\",\"BGIP4.SA\",\"FRTA3.SA\",\"RSUL4.SA\",\"MNPR3.SA\",\"BSLI4.SA\",\n",
        "    \"CEDO4.SA\",\"CEED3.SA\",\"TELB3.SA\",\"SNSY3.SA\",\"EKTR4.SA\",\"BRIV4.SA\",\"ALPA3.SA\",\"CTNM3.SA\",\n",
        "    \"BAUH4.SA\",\"BALM4.SA\",\"BDLL4.SA\",\"GEPA4.SA\",\"FRIO3.SA\",\"WLMM4.SA\",\"CTKA4.SA\",\"AFLT3.SA\",\n",
        "    \"CLSC3.SA\",\"CEEB3.SA\",\"BSLI3.SA\",\"MGEL4.SA\",\"PLAS3.SA\",\"CRIV4.SA\",\"DTCY3.SA\",\"NORD3.SA\",\n",
        "    \"BMKS3.SA\",\"FIEI3.SA\",\"MRSA3B.SA\",\"EALT3.SA\",\"MNDL3.SA\",\"LAME4.SA\",\n",
        "    \"HOOT4.SA\",\"UNIP5.SA\",\"PATI3.SA\",\"CEDO3.SA\",\"MRSA5B.SA\",\"BMIN4.SA\",\"BNBR3.SA\",\n",
        "    \"LIPR3.SA\",\"CSAB4.SA\",\"PEAB3.SA\",\"EQMA3B.SA\",\"BMIN3.SA\",\"LUXM4.SA\",\"BRKM6.SA\",\"BDLL3.SA\",\n",
        "    \"BRGE8.SA\",\"RPAD3.SA\",\"HETA4.SA\",\"CRIV3.SA\",\"BRGE6.SA\",\"ENMT4.SA\",\"MERC4.SA\",\"CGAS3.SA\",\n",
        "    \"CSRN3.SA\",\"GEPA3.SA\",\"CALI3.SA\",\"CTKA3.SA\",\"BRIV3.SA\",\"JOPA3.SA\",\"WLMM3.SA\",\"BALM3.SA\",\n",
        "    \"AHEB3.SA\",\"BRSR5.SA\",\"BRGE11.SA\",\"DOHL3.SA\",\"RPAD5.SA\",\"FESA3.SA\",\"CBEE3.SA\",\"BRGE3.SA\",\n",
        "    \"MAPT4.SA\",\"ESTR4.SA\",\"GSHP3.SA\",\"CSAB3.SA\",\"CPLE5.SA\",\"CSRN6.SA\",\"MOAR3.SA\",\"EQPA7.SA\",\n",
        "    \"CRPG3.SA\",\"BRGE12.SA\",\"MEGA3.SA\",\"EQPA5.SA\",\"HBTS5.SA\",\"BGIP3.SA\",\"DMFN3.SA\",\"CEEB5.SA\",\n",
        "    \"CSRN5.SA\",\"BRGE5.SA\",\"TKNO4.SA\",\"ELET5.SA\",\"SOND6.SA\",\"SOND5.SA\",\"GPAR3.SA\",\"SQIA3.SA\",\n",
        "    \"ESTR3.SA\",\"BRGE7.SA\",\"MRSA6B.SA\",\"ALSO3.SA\",\"BRPR3.SA\",\"PATI4.SA\",\"MTSA3.SA\",\"SLED4.SA\",\n",
        "    \"SLED3.SA\",\"EQPA6.SA\",\"AHEB6.SA\",\"PINE3.SA\",\"VIIA3.SA\",\"EKTR3.SA\",\"MWET3.SA\",\"USIM6.SA\",\n",
        "    \"AHEB5.SA\",\"ENBR3.SA\",\"BOAS3.SA\",\"PEAB4.SA\",\"COCE3.SA\",\"JOPA4.SA\",\"MODL3.SA\",\"MERC3.SA\",\n",
        "    \"CEGR3.SA\",\"MAPT3.SA\",\"CRDE3.SA\",\"IGBR3.SA\",\"MSPA4.SA\",\"ODER4.SA\",\"PARD3.SA\",\"CASN3.SA\",\n",
        "    \"BRML3.SA\",\"DMMO3.SA\",\"GETT3.SA\",\"GETT4.SA\",\"WIZS3.SA\",\"LLIS3.SA\",\"MSPA3.SA\",\"MMAQ4.SA\",\n",
        "    \"SULA4.SA\",\"SULA3.SA\",\"CEPE5.SA\",\"TCNO4.SA\",\"TCNO3.SA\",\"CEPE6.SA\",\"BKBR3.SA\",\"MTIG4.SA\",\n",
        "    \"BLUT4.SA\",\"BLUT3.SA\",\"MODL4.SA\",\"CARD3.SA\",\"SHUL3.SA\",\"FIGE3.SA\",\"FNCN3.SA\",\"TEKA3.SA\",\n",
        "    \"HETA3.SA\",\"LCAM3.SA\",\"BIDI4.SA\",\"BIDI3.SA\",\"EEEL4.SA\",\"EEEL3.SA\",\"BBRK3.SA\",\"SOND3.SA\",\n",
        "    \"CESP6.SA\",\"CESP3.SA\",\"CESP5.SA\",\"ECPR4.SA\",\"MOSI3.SA\",\"POWE3.SA\",\"ECPR3.SA\",\"GNDI3.SA\",\n",
        "    \"LAME3.SA\",\"OMGE3.SA\",\"IGTA3.SA\",\"JPSA3.SA\",\"BRDT3.SA\",\"JBDU4.SA\",\"JBDU3.SA\",\"CTSA8.SA\",\n",
        "    \"HGTX3.SA\",\"CCPR3.SA\",\"DTEX3.SA\",\"VVAR3.SA\",\"PNVL4.SA\",\"TESA3.SA\",\"BTOW3.SA\",\"LINX3.SA\",\n",
        "    \"BTTL3.SA\",\"GPCP3.SA\",\"GPCP4.SA\",\"SMLS3.SA\",\"MMXM3.SA\",\"BSEV3.SA\",\"CNTO3.SA\",\"TIET4.SA\",\n",
        "    \"TIET3.SA\",\"CORR4.SA\",\"CEPE3.SA\",\"CALI4.SA\",\"SNSY6.SA\",\"CASN4.SA\",\"EMAE3.SA\",\"BPAR3.SA\",\n",
        "    \"APTI4.SA\",\"VSPT3.SA\",\"MTIG3.SA\",\"FIGE4.SA\",\"LUXM3.SA\",\"TKNO3.SA\",\"COCE6.SA\",\"MGEL3.SA\",\n",
        "]"
      ]
    },
    {
      "cell_type": "code",
      "execution_count": 4,
      "metadata": {
        "colab": {
          "background_save": true
        },
        "id": "vn6VmYwwsEGA"
      },
      "outputs": [],
      "source": [
        "error_tickers = [\n",
        "    \"LAME4.SA\", \"VIIA3.SA\", \"ENBR3.SA\", \"BOAS3.SA\", \"CRDE3.SA\", \"MODL3.SA\", \"PARD3.SA\",\n",
        "    \"BRML3.SA\", \"GETT3.SA\", \"DMMO3.SA\", \"GETT4.SA\", \"WIZS3.SA\", \"LLIS3.SA\", \"SULA3.SA\",\n",
        "    \"TCNO4.SA\", \"SULA4.SA\", \"TCNO3.SA\", \"CEPE5.SA\", \"BLUT4.SA\", \"MTIG4.SA\", \"CEPE6.SA\",\n",
        "    \"BKBR3.SA\", \"BLUT3.SA\", \"CARD3.SA\", \"MODL4.SA\", \"BIDI4.SA\", \"BIDI3.SA\", \"FNCN3.SA\",\n",
        "    \"LCAM3.SA\", \"BBRK3.SA\", \"EEEL3.SA\", \"EEEL4.SA\", \"CESP6.SA\", \"CESP5.SA\", \"MOSI3.SA\",\n",
        "    \"CESP3.SA\", \"LAME3.SA\", \"POWE3.SA\", \"GNDI3.SA\", \"OMGE3.SA\", \"JBDU4.SA\", \"BRDT3.SA\",\n",
        "    \"IGTA3.SA\", \"JPSA3.SA\", \"CTSA8.SA\", \"JBDU3.SA\", \"CCPR3.SA\", \"DTEX3.SA\", \"HGTX3.SA\",\n",
        "    \"PNVL4.SA\", \"VVAR3.SA\", \"TESA3.SA\", \"BTOW3.SA\", \"LINX3.SA\", \"BTTL3.SA\", \"SMLS3.SA\",\n",
        "    \"GPCP3.SA\", \"GPCP4.SA\", \"MMXM3.SA\", \"TIET4.SA\", \"CNTO3.SA\", \"BSEV3.SA\", \"CALI4.SA\",\n",
        "    \"TIET3.SA\", \"CEPE3.SA\", \"APTI4.SA\", \"BPAR3.SA\"\n",
        "]"
      ]
    },
    {
      "cell_type": "code",
      "execution_count": 5,
      "metadata": {
        "colab": {
          "background_save": true
        },
        "id": "-9Kl4SBNsGt1"
      },
      "outputs": [],
      "source": [
        "remaining_tickers = [ticker for ticker in tickers_b3 if ticker not in error_tickers]"
      ]
    },
    {
      "cell_type": "code",
      "execution_count": 6,
      "metadata": {
        "colab": {
          "background_save": true,
          "base_uri": "https://localhost:8080/"
        },
        "id": "Abc0yUkxj4_8",
        "outputId": "67e8de81-e18a-4e7b-aa03-29fe3c2dca2d"
      },
      "outputs": [
        {
          "name": "stderr",
          "output_type": "stream",
          "text": [
            "  0%|          | 0/465 [00:00<?, ?it/s]"
          ]
        },
        {
          "name": "stderr",
          "output_type": "stream",
          "text": [
            " 78%|███████▊  | 363/465 [00:35<00:08, 11.81it/s]CSAB4.SA: No data found, symbol may be delisted\n",
            " 87%|████████▋ | 404/465 [00:46<00:06, 10.05it/s]MEGA3.SA: No data found, symbol may be delisted\n",
            " 89%|████████▉ | 416/465 [00:50<00:09,  4.96it/s]"
          ]
        }
      ],
      "source": [
        "fetcher = HistoricalDataFetcher(remaining_tickers)\n",
        "df = fetcher.fetch_data()"
      ]
    },
    {
      "cell_type": "code",
      "execution_count": null,
      "metadata": {
        "colab": {
          "background_save": true
        },
        "id": "0FVFQPxYXMgW"
      },
      "outputs": [],
      "source": [
        "numero_de_valores_unicos = df['Ticker'].nunique()"
      ]
    },
    {
      "cell_type": "markdown",
      "metadata": {
        "id": "1GESbByUs0nX"
      },
      "source": [
        "### Prepara dados"
      ]
    },
    {
      "cell_type": "code",
      "execution_count": null,
      "metadata": {
        "colab": {
          "background_save": true
        },
        "id": "TysCzmpStHEI"
      },
      "outputs": [],
      "source": [
        "# Preenchimento de valores ausentes\n",
        "df.fillna(df.mean(numeric_only=True), inplace=True)\n",
        "\n",
        "# Feature Engineering\n",
        "df['Daily Change'] = df['Close'] - df['Open']\n",
        "df['Daily Percent Change'] = df['Daily Change'] / df['Open'] * 100\n",
        "df['5-day Moving Average'] = df['Close'].rolling(window=5).mean()\n",
        "\n",
        "# Tratamento de valores infinitos\n",
        "df.replace([np.inf, -np.inf], np.nan, inplace=True)\n",
        "\n",
        "# Preenchimento de valores ausentes novamente após a substituição de infinitos\n",
        "df.fillna(df.mean(numeric_only=True), inplace=True)\n",
        "\n",
        "# Criação da coluna 'Categoria de Desempenho' (exemplo baseado na média do 'Daily Percent Change')\n",
        "# Ajuste os critérios conforme necessário\n",
        "mean_daily_percent_change = df.groupby('Ticker')['Daily Percent Change'].transform('mean')\n",
        "df['Categoria de Desempenho'] = pd.qcut(mean_daily_percent_change, 3, labels=['Baixo Desempenho', 'Desempenho Moderado', 'Alto Desempenho'])\n",
        "\n",
        "# Normalização das variáveis\n",
        "scaler = StandardScaler()\n",
        "columns_to_scale = ['Open', 'High', 'Low', 'Close', 'Volume', 'Dividends', 'Stock Splits', 'Capital Gains', 'Daily Change', 'Daily Percent Change', '5-day Moving Average']\n",
        "df[columns_to_scale] = scaler.fit_transform(df[columns_to_scale])\n",
        "\n",
        "# Divisão do dataset em conjuntos de treino e teste\n",
        "X = df[columns_to_scale]\n",
        "y = df['Categoria de Desempenho']\n",
        "X_train, X_test, y_train, y_test = train_test_split(X, y, test_size=0.3, random_state=42)"
      ]
    },
    {
      "cell_type": "markdown",
      "metadata": {
        "id": "7J-r5Im6tNeT"
      },
      "source": [
        "### Aplica Modelo"
      ]
    },
    {
      "cell_type": "code",
      "execution_count": null,
      "metadata": {
        "colab": {
          "background_save": true,
          "base_uri": "https://localhost:8080/",
          "height": 74
        },
        "id": "iRP7npRktPBG",
        "outputId": "cfdd45c5-182e-44fe-84e4-3de98d5d470d"
      },
      "outputs": [
        {
          "data": {
            "text/html": [
              "<style>#sk-container-id-1 {color: black;background-color: white;}#sk-container-id-1 pre{padding: 0;}#sk-container-id-1 div.sk-toggleable {background-color: white;}#sk-container-id-1 label.sk-toggleable__label {cursor: pointer;display: block;width: 100%;margin-bottom: 0;padding: 0.3em;box-sizing: border-box;text-align: center;}#sk-container-id-1 label.sk-toggleable__label-arrow:before {content: \"▸\";float: left;margin-right: 0.25em;color: #696969;}#sk-container-id-1 label.sk-toggleable__label-arrow:hover:before {color: black;}#sk-container-id-1 div.sk-estimator:hover label.sk-toggleable__label-arrow:before {color: black;}#sk-container-id-1 div.sk-toggleable__content {max-height: 0;max-width: 0;overflow: hidden;text-align: left;background-color: #f0f8ff;}#sk-container-id-1 div.sk-toggleable__content pre {margin: 0.2em;color: black;border-radius: 0.25em;background-color: #f0f8ff;}#sk-container-id-1 input.sk-toggleable__control:checked~div.sk-toggleable__content {max-height: 200px;max-width: 100%;overflow: auto;}#sk-container-id-1 input.sk-toggleable__control:checked~label.sk-toggleable__label-arrow:before {content: \"▾\";}#sk-container-id-1 div.sk-estimator input.sk-toggleable__control:checked~label.sk-toggleable__label {background-color: #d4ebff;}#sk-container-id-1 div.sk-label input.sk-toggleable__control:checked~label.sk-toggleable__label {background-color: #d4ebff;}#sk-container-id-1 input.sk-hidden--visually {border: 0;clip: rect(1px 1px 1px 1px);clip: rect(1px, 1px, 1px, 1px);height: 1px;margin: -1px;overflow: hidden;padding: 0;position: absolute;width: 1px;}#sk-container-id-1 div.sk-estimator {font-family: monospace;background-color: #f0f8ff;border: 1px dotted black;border-radius: 0.25em;box-sizing: border-box;margin-bottom: 0.5em;}#sk-container-id-1 div.sk-estimator:hover {background-color: #d4ebff;}#sk-container-id-1 div.sk-parallel-item::after {content: \"\";width: 100%;border-bottom: 1px solid gray;flex-grow: 1;}#sk-container-id-1 div.sk-label:hover label.sk-toggleable__label {background-color: #d4ebff;}#sk-container-id-1 div.sk-serial::before {content: \"\";position: absolute;border-left: 1px solid gray;box-sizing: border-box;top: 0;bottom: 0;left: 50%;z-index: 0;}#sk-container-id-1 div.sk-serial {display: flex;flex-direction: column;align-items: center;background-color: white;padding-right: 0.2em;padding-left: 0.2em;position: relative;}#sk-container-id-1 div.sk-item {position: relative;z-index: 1;}#sk-container-id-1 div.sk-parallel {display: flex;align-items: stretch;justify-content: center;background-color: white;position: relative;}#sk-container-id-1 div.sk-item::before, #sk-container-id-1 div.sk-parallel-item::before {content: \"\";position: absolute;border-left: 1px solid gray;box-sizing: border-box;top: 0;bottom: 0;left: 50%;z-index: -1;}#sk-container-id-1 div.sk-parallel-item {display: flex;flex-direction: column;z-index: 1;position: relative;background-color: white;}#sk-container-id-1 div.sk-parallel-item:first-child::after {align-self: flex-end;width: 50%;}#sk-container-id-1 div.sk-parallel-item:last-child::after {align-self: flex-start;width: 50%;}#sk-container-id-1 div.sk-parallel-item:only-child::after {width: 0;}#sk-container-id-1 div.sk-dashed-wrapped {border: 1px dashed gray;margin: 0 0.4em 0.5em 0.4em;box-sizing: border-box;padding-bottom: 0.4em;background-color: white;}#sk-container-id-1 div.sk-label label {font-family: monospace;font-weight: bold;display: inline-block;line-height: 1.2em;}#sk-container-id-1 div.sk-label-container {text-align: center;}#sk-container-id-1 div.sk-container {/* jupyter's `normalize.less` sets `[hidden] { display: none; }` but bootstrap.min.css set `[hidden] { display: none !important; }` so we also need the `!important` here to be able to override the default hidden behavior on the sphinx rendered scikit-learn.org. See: https://github.com/scikit-learn/scikit-learn/issues/21755 */display: inline-block !important;position: relative;}#sk-container-id-1 div.sk-text-repr-fallback {display: none;}</style><div id=\"sk-container-id-1\" class=\"sk-top-container\"><div class=\"sk-text-repr-fallback\"><pre>DecisionTreeClassifier(random_state=42)</pre><b>In a Jupyter environment, please rerun this cell to show the HTML representation or trust the notebook. <br />On GitHub, the HTML representation is unable to render, please try loading this page with nbviewer.org.</b></div><div class=\"sk-container\" hidden><div class=\"sk-item\"><div class=\"sk-estimator sk-toggleable\"><input class=\"sk-toggleable__control sk-hidden--visually\" id=\"sk-estimator-id-1\" type=\"checkbox\" checked><label for=\"sk-estimator-id-1\" class=\"sk-toggleable__label sk-toggleable__label-arrow\">DecisionTreeClassifier</label><div class=\"sk-toggleable__content\"><pre>DecisionTreeClassifier(random_state=42)</pre></div></div></div></div></div>"
            ],
            "text/plain": [
              "DecisionTreeClassifier(random_state=42)"
            ]
          },
          "execution_count": 10,
          "metadata": {},
          "output_type": "execute_result"
        }
      ],
      "source": [
        "# Modelo de Árvore de Decisão\n",
        "tree_model = DecisionTreeClassifier(random_state=42)\n",
        "tree_model.fit(X_train, y_train)"
      ]
    },
    {
      "cell_type": "code",
      "execution_count": null,
      "metadata": {
        "colab": {
          "background_save": true,
          "base_uri": "https://localhost:8080/",
          "height": 74
        },
        "id": "ImGVLi4lwtfL",
        "outputId": "0a6f1082-d81e-4baf-84e4-d3ea4ee8c5ff"
      },
      "outputs": [
        {
          "data": {
            "text/html": [
              "<style>#sk-container-id-2 {color: black;background-color: white;}#sk-container-id-2 pre{padding: 0;}#sk-container-id-2 div.sk-toggleable {background-color: white;}#sk-container-id-2 label.sk-toggleable__label {cursor: pointer;display: block;width: 100%;margin-bottom: 0;padding: 0.3em;box-sizing: border-box;text-align: center;}#sk-container-id-2 label.sk-toggleable__label-arrow:before {content: \"▸\";float: left;margin-right: 0.25em;color: #696969;}#sk-container-id-2 label.sk-toggleable__label-arrow:hover:before {color: black;}#sk-container-id-2 div.sk-estimator:hover label.sk-toggleable__label-arrow:before {color: black;}#sk-container-id-2 div.sk-toggleable__content {max-height: 0;max-width: 0;overflow: hidden;text-align: left;background-color: #f0f8ff;}#sk-container-id-2 div.sk-toggleable__content pre {margin: 0.2em;color: black;border-radius: 0.25em;background-color: #f0f8ff;}#sk-container-id-2 input.sk-toggleable__control:checked~div.sk-toggleable__content {max-height: 200px;max-width: 100%;overflow: auto;}#sk-container-id-2 input.sk-toggleable__control:checked~label.sk-toggleable__label-arrow:before {content: \"▾\";}#sk-container-id-2 div.sk-estimator input.sk-toggleable__control:checked~label.sk-toggleable__label {background-color: #d4ebff;}#sk-container-id-2 div.sk-label input.sk-toggleable__control:checked~label.sk-toggleable__label {background-color: #d4ebff;}#sk-container-id-2 input.sk-hidden--visually {border: 0;clip: rect(1px 1px 1px 1px);clip: rect(1px, 1px, 1px, 1px);height: 1px;margin: -1px;overflow: hidden;padding: 0;position: absolute;width: 1px;}#sk-container-id-2 div.sk-estimator {font-family: monospace;background-color: #f0f8ff;border: 1px dotted black;border-radius: 0.25em;box-sizing: border-box;margin-bottom: 0.5em;}#sk-container-id-2 div.sk-estimator:hover {background-color: #d4ebff;}#sk-container-id-2 div.sk-parallel-item::after {content: \"\";width: 100%;border-bottom: 1px solid gray;flex-grow: 1;}#sk-container-id-2 div.sk-label:hover label.sk-toggleable__label {background-color: #d4ebff;}#sk-container-id-2 div.sk-serial::before {content: \"\";position: absolute;border-left: 1px solid gray;box-sizing: border-box;top: 0;bottom: 0;left: 50%;z-index: 0;}#sk-container-id-2 div.sk-serial {display: flex;flex-direction: column;align-items: center;background-color: white;padding-right: 0.2em;padding-left: 0.2em;position: relative;}#sk-container-id-2 div.sk-item {position: relative;z-index: 1;}#sk-container-id-2 div.sk-parallel {display: flex;align-items: stretch;justify-content: center;background-color: white;position: relative;}#sk-container-id-2 div.sk-item::before, #sk-container-id-2 div.sk-parallel-item::before {content: \"\";position: absolute;border-left: 1px solid gray;box-sizing: border-box;top: 0;bottom: 0;left: 50%;z-index: -1;}#sk-container-id-2 div.sk-parallel-item {display: flex;flex-direction: column;z-index: 1;position: relative;background-color: white;}#sk-container-id-2 div.sk-parallel-item:first-child::after {align-self: flex-end;width: 50%;}#sk-container-id-2 div.sk-parallel-item:last-child::after {align-self: flex-start;width: 50%;}#sk-container-id-2 div.sk-parallel-item:only-child::after {width: 0;}#sk-container-id-2 div.sk-dashed-wrapped {border: 1px dashed gray;margin: 0 0.4em 0.5em 0.4em;box-sizing: border-box;padding-bottom: 0.4em;background-color: white;}#sk-container-id-2 div.sk-label label {font-family: monospace;font-weight: bold;display: inline-block;line-height: 1.2em;}#sk-container-id-2 div.sk-label-container {text-align: center;}#sk-container-id-2 div.sk-container {/* jupyter's `normalize.less` sets `[hidden] { display: none; }` but bootstrap.min.css set `[hidden] { display: none !important; }` so we also need the `!important` here to be able to override the default hidden behavior on the sphinx rendered scikit-learn.org. See: https://github.com/scikit-learn/scikit-learn/issues/21755 */display: inline-block !important;position: relative;}#sk-container-id-2 div.sk-text-repr-fallback {display: none;}</style><div id=\"sk-container-id-2\" class=\"sk-top-container\"><div class=\"sk-text-repr-fallback\"><pre>RandomForestClassifier(random_state=42)</pre><b>In a Jupyter environment, please rerun this cell to show the HTML representation or trust the notebook. <br />On GitHub, the HTML representation is unable to render, please try loading this page with nbviewer.org.</b></div><div class=\"sk-container\" hidden><div class=\"sk-item\"><div class=\"sk-estimator sk-toggleable\"><input class=\"sk-toggleable__control sk-hidden--visually\" id=\"sk-estimator-id-2\" type=\"checkbox\" checked><label for=\"sk-estimator-id-2\" class=\"sk-toggleable__label sk-toggleable__label-arrow\">RandomForestClassifier</label><div class=\"sk-toggleable__content\"><pre>RandomForestClassifier(random_state=42)</pre></div></div></div></div></div>"
            ],
            "text/plain": [
              "RandomForestClassifier(random_state=42)"
            ]
          },
          "execution_count": 11,
          "metadata": {},
          "output_type": "execute_result"
        }
      ],
      "source": [
        "# Modelo de Floresta Aleatória\n",
        "forest_model = RandomForestClassifier(random_state=42)\n",
        "forest_model.fit(X_train, y_train)"
      ]
    },
    {
      "cell_type": "markdown",
      "metadata": {
        "id": "YiyJhVjbtU-P"
      },
      "source": [
        "### Avaliação do Modelo"
      ]
    },
    {
      "cell_type": "code",
      "execution_count": null,
      "metadata": {
        "colab": {
          "background_save": true,
          "base_uri": "https://localhost:8080/"
        },
        "id": "xo7eF72XtWQe",
        "outputId": "d41b10a8-6ef4-4f26-e439-f18b19906206"
      },
      "outputs": [
        {
          "name": "stdout",
          "output_type": "stream",
          "text": [
            "Árvore de Decisão - Relatório de Classificação:\n",
            "                      precision    recall  f1-score   support\n",
            "\n",
            "    Alto Desempenho       0.70      0.71      0.70     97368\n",
            "   Baixo Desempenho       0.64      0.63      0.64     98259\n",
            "Desempenho Moderado       0.64      0.65      0.65     98267\n",
            "\n",
            "           accuracy                           0.66    293894\n",
            "          macro avg       0.66      0.66      0.66    293894\n",
            "       weighted avg       0.66      0.66      0.66    293894\n",
            "\n",
            "Floresta Aleatória - Relatório de Classificação:\n",
            "                      precision    recall  f1-score   support\n",
            "\n",
            "    Alto Desempenho       0.79      0.78      0.78     97368\n",
            "   Baixo Desempenho       0.69      0.79      0.73     98259\n",
            "Desempenho Moderado       0.76      0.66      0.71     98267\n",
            "\n",
            "           accuracy                           0.74    293894\n",
            "          macro avg       0.75      0.74      0.74    293894\n",
            "       weighted avg       0.75      0.74      0.74    293894\n",
            "\n"
          ]
        }
      ],
      "source": [
        "# Avaliação do modelo de Árvore de Decisão\n",
        "tree_pred = tree_model.predict(X_test)\n",
        "print(\"Árvore de Decisão - Relatório de Classificação:\\n\", classification_report(y_test, tree_pred))\n",
        "\n",
        "# Avaliação do modelo de Floresta Aleatória\n",
        "forest_pred = forest_model.predict(X_test)\n",
        "print(\"Floresta Aleatória - Relatório de Classificação:\\n\", classification_report(y_test, forest_pred))"
      ]
    },
    {
      "cell_type": "markdown",
      "metadata": {
        "id": "x1POvNXjtY0O"
      },
      "source": [
        "### Análise de Importância de Variáveis"
      ]
    },
    {
      "cell_type": "code",
      "execution_count": null,
      "metadata": {
        "colab": {
          "background_save": true,
          "base_uri": "https://localhost:8080/",
          "height": 430
        },
        "id": "FpHiaWLOtZmH",
        "outputId": "f2c6b647-28b9-453b-e692-060eca9b00b9"
      },
      "outputs": [
        {
          "data": {
            "image/png": "[encoded data removed]",
            "text/plain": [
              "<Figure size 640x480 with 1 Axes>"
            ]
          },
          "metadata": {},
          "output_type": "display_data"
        }
      ],
      "source": [
        "feature_importances = pd.Series(forest_model.feature_importances_, index=X.columns)\n",
        "feature_importances.nlargest(10).plot(kind='barh')  # Mostrar as 10 variáveis mais importantes\n",
        "plt.show()"
      ]
    },
    {
      "cell_type": "markdown",
      "metadata": {
        "id": "NF-5p2Q9xthT"
      },
      "source": [
        "### Verifica Overfitting"
      ]
    },
    {
      "cell_type": "code",
      "execution_count": null,
      "metadata": {
        "colab": {
          "background_save": true,
          "base_uri": "https://localhost:8080/"
        },
        "id": "E78HuuoGxsIA",
        "outputId": "562087a6-7555-4775-9640-66aa06c87cda"
      },
      "outputs": [
        {
          "name": "stdout",
          "output_type": "stream",
          "text": [
            "Árvore de Decisão - Treino - Relatório de Classificação:\n",
            "                      precision    recall  f1-score   support\n",
            "\n",
            "    Alto Desempenho       0.99      0.99      0.99    226712\n",
            "   Baixo Desempenho       1.00      1.00      1.00    230553\n",
            "Desempenho Moderado       0.99      0.99      0.99    228485\n",
            "\n",
            "           accuracy                           1.00    685750\n",
            "          macro avg       1.00      1.00      1.00    685750\n",
            "       weighted avg       1.00      1.00      1.00    685750\n",
            "\n",
            "Floresta Aleatória - Treino - Relatório de Classificação:\n",
            "                      precision    recall  f1-score   support\n",
            "\n",
            "    Alto Desempenho       0.99      0.99      0.99    226712\n",
            "   Baixo Desempenho       1.00      1.00      1.00    230553\n",
            "Desempenho Moderado       0.99      1.00      0.99    228485\n",
            "\n",
            "           accuracy                           1.00    685750\n",
            "          macro avg       1.00      1.00      1.00    685750\n",
            "       weighted avg       1.00      1.00      1.00    685750\n",
            "\n"
          ]
        }
      ],
      "source": [
        "# Avaliação do modelo no conjunto de treino\n",
        "tree_train_pred = tree_model.predict(X_train)\n",
        "forest_train_pred = forest_model.predict(X_train)\n",
        "\n",
        "print(\"Árvore de Decisão - Treino - Relatório de Classificação:\\n\", classification_report(y_train, tree_train_pred))\n",
        "print(\"Floresta Aleatória - Treino - Relatório de Classificação:\\n\", classification_report(y_train, forest_train_pred))"
      ]
    },
    {
      "cell_type": "markdown",
      "metadata": {
        "id": "oAloaZyox9Oo"
      },
      "source": [
        "### Ajuste de Hiperparâmetros"
      ]
    },
    {
      "cell_type": "code",
      "execution_count": null,
      "metadata": {
        "colab": {
          "background_save": true,
          "base_uri": "https://localhost:8080/"
        },
        "id": "jTcE4_max-84",
        "outputId": "fce7a243-9799-4d0d-982f-a698f8679896"
      },
      "outputs": [],
      "source": [
        "# # ajuste de hiperparâmetros para a Floresta Aleatória\n",
        "# param_grid = {\n",
        "#     'n_estimators': [100, 200, 300],\n",
        "#     'max_features': ['auto', 'sqrt'],\n",
        "#     'max_depth': [10, 20, 30],\n",
        "#     'min_samples_split': [2, 5, 10]\n",
        "# }\n",
        "\n",
        "# grid_search = GridSearchCV(estimator=forest_model, param_grid=param_grid, cv=3, n_jobs=-1, verbose=2)\n",
        "# grid_search.fit(X_train, y_train)"
      ]
    },
    {
      "cell_type": "markdown",
      "metadata": {
        "id": "3FMEVizjyBOv"
      },
      "source": [
        "### Validação Cruzada"
      ]
    },
    {
      "cell_type": "code",
      "execution_count": null,
      "metadata": {
        "colab": {
          "background_save": true
        },
        "id": "LHGq6o6LyCl8",
        "outputId": "b5d03bcb-034c-4084-a16a-3b3b3212bcf8"
      },
      "outputs": [],
      "source": [
        "# # Validação cruzada para a Floresta Aleatória\n",
        "# cross_val_scores = cross_val_score(forest_model, X, y, cv=5)\n",
        "# print(\"Validação Cruzada - Scores:\", cross_val_scores)"
      ]
    },
    {
      "cell_type": "markdown",
      "metadata": {
        "id": "prEzD5apflro"
      },
      "source": [
        "### Coloca resultados"
      ]
    },
    {
      "cell_type": "code",
      "execution_count": null,
      "metadata": {
        "colab": {
          "background_save": true
        },
        "id": "C_wMMLA_fnLf"
      },
      "outputs": [],
      "source": [
        "df.reset_index(inplace=True)"
      ]
    },
    {
      "cell_type": "code",
      "execution_count": null,
      "metadata": {},
      "outputs": [
        {
          "ename": "",
          "evalue": "",
          "output_type": "error",
          "traceback": [
            "\u001b[1;31mThe Kernel crashed while executing code in the current cell or a previous cell. \n",
            "\u001b[1;31mPlease review the code in the cell(s) to identify a possible cause of the failure. \n",
            "\u001b[1;31mClick <a href='https://aka.ms/vscodeJupyterKernelCrash'>here</a> for more info. \n",
            "\u001b[1;31mView Jupyter <a href='command:jupyter.viewOutput'>log</a> for further details."
          ]
        }
      ],
      "source": [
        "# # Criar um gráfico de barras usando seaborn com uma paleta pastel\n",
        "# plt.figure(figsize=(10, 6))\n",
        "# sns.set_theme(style=\"whitegrid\")\n",
        "# sns.barplot(x=df.index, y=\"Daily Percent Change\", hue=\"Categoria de Desempenho\", data=df, palette=\"pastel\")\n",
        "# plt.title(\"Daily Percent Change by Performance Category\")\n",
        "# plt.xlabel(\"Date\")\n",
        "# plt.ylabel(\"Daily Percent Change\")\n",
        "# plt.xticks(rotation=45)\n",
        "# plt.legend(title=\"Performance Category\")\n",
        "\n",
        "# # Mostrar o gráfico\n",
        "# plt.tight_layout()\n",
        "# plt.show()"
      ]
    },
    {
      "cell_type": "code",
      "execution_count": null,
      "metadata": {},
      "outputs": [],
      "source": [
        "df"
      ]
    }
  ],
  "metadata": {
    "colab": {
      "provenance": []
    },
    "kernelspec": {
      "display_name": "Python 3",
      "name": "python3"
    },
    "language_info": {
      "codemirror_mode": {
        "name": "ipython",
        "version": 3
      },
      "file_extension": ".py",
      "mimetype": "text/x-python",
      "name": "python",
      "nbconvert_exporter": "python",
      "pygments_lexer": "ipython3",
      "version": "3.11.8"
    }
  },
  "nbformat": 4,
  "nbformat_minor": 0
}
